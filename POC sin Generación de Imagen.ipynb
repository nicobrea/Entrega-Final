{
 "cells": [
  {
   "cell_type": "markdown",
   "id": "91bf529c-77fc-43fb-96bb-73014e05f090",
   "metadata": {},
   "source": [
    "## PASO 1: Importar OpenAI"
   ]
  },
  {
   "cell_type": "code",
   "execution_count": 1,
   "id": "7d8e88d0-f40f-4e5f-aa9e-3b8c2ba73f56",
   "metadata": {},
   "outputs": [],
   "source": [
    "import openai"
   ]
  },
  {
   "cell_type": "markdown",
   "id": "fef5ed0e-b148-4cfa-a521-491778fe544b",
   "metadata": {},
   "source": [
    "## PASO 2: Usar mi API KEY"
   ]
  },
  {
   "cell_type": "code",
   "execution_count": 2,
   "id": "77d80ce3-6abf-46a6-96d0-c3c8d19daa8e",
   "metadata": {},
   "outputs": [],
   "source": [
    "openai.api_key = \"\""
   ]
  },
  {
   "cell_type": "markdown",
   "id": "5118b7a3-a449-45fa-afc7-084e613bbf7f",
   "metadata": {},
   "source": [
    "## PASO 3: Definición de Roles"
   ]
  },
  {
   "cell_type": "code",
   "execution_count": 12,
   "id": "30f5ec6f-21a6-4cc1-a6db-b745789f057b",
   "metadata": {},
   "outputs": [],
   "source": [
    "#Rol del System\n",
    "context = \"Eres un asistente de Community Managers que crea contenido para redes sociales. Debes generar contenido interesante y redactado de una manera amigable con lenguaje informal en español de Argentina, a partir de temáticas entregadas por el usuario. El contenido de texto debe ser de máximo 150 caracteres. Luego debes entregar un prompt en inglés que sirva de input para una generación de IA texto-imagen hiperealista sobre el contenido generado\"\n",
    "\n",
    "#Rol del User\n",
    "prompt = \"Dame el contenido para un posteo en Instagram sobre el ingrediente L-Triptofano con enfásis en una breve explicación sobre el ingrediente, en el impacto comprobado de mejora el descanso, los alimentos más comunes que tienen L-Triptofano en sus ingredientes y rutinas que ayuden a incorporar esos alimentos en la dieta\""
   ]
  },
  {
   "cell_type": "markdown",
   "id": "b3c258a4-5d5e-46ae-88c6-b74fb923e301",
   "metadata": {},
   "source": [
    "## PASO 4: Configuración"
   ]
  },
  {
   "cell_type": "code",
   "execution_count": 13,
   "id": "41aa94e0-638d-4254-9469-acd19f5d4bcf",
   "metadata": {},
   "outputs": [
    {
     "name": "stdout",
     "output_type": "stream",
     "text": [
      "assistant: ¡Conocé el L-Triptofano! Este aminoácido ayuda a mejorar el descanso. ¡Incorporalo en tu dieta con alimentos como pollo, pavo, bananas y legumbres! 💤🍗🍌 #DescansoSaludable\n",
      "\n",
      "---\n",
      "\n",
      "Create a hyperrealistic image of a person peacefully sleeping surrounded by ingredients rich in L-Tryptophan like chicken, turkey, bananas, and legumes.\n"
     ]
    }
   ],
   "source": [
    "conversation = [\n",
    "    {\"role\": \"system\", \"content\": context },\n",
    "    {\"role\": \"user\", \"content\": prompt },\n",
    "]\n",
    "\n",
    "response = openai.ChatCompletion.create(\n",
    "    model=\"gpt-3.5-turbo\",\n",
    "    messages=conversation,\n",
    "    max_tokens=1000,\n",
    "    temperature=0\n",
    ")\n",
    "\n",
    "message=response.choices[0]['message']\n",
    "print(\"{}: {}\".format(message['role'], message['content']))"
   ]
  },
  {
   "cell_type": "markdown",
   "id": "6af9fb3c-13f2-4d93-9d76-d4e65a74a1cc",
   "metadata": {},
   "source": [
    "#### Ahora llevo ese Prompt a NightCafe o StableDiff y creo la imagen todas las veces que sea necesario para encontrar la que parezca más real y vistosa para mi audiencia"
   ]
  },
  {
   "cell_type": "code",
   "execution_count": null,
   "id": "99691ebb-5c28-415e-b194-c27357977615",
   "metadata": {},
   "outputs": [],
   "source": []
  }
 ],
 "metadata": {
  "kernelspec": {
   "display_name": "Python 3 (ipykernel)",
   "language": "python",
   "name": "python3"
  },
  "language_info": {
   "codemirror_mode": {
    "name": "ipython",
    "version": 3
   },
   "file_extension": ".py",
   "mimetype": "text/x-python",
   "name": "python",
   "nbconvert_exporter": "python",
   "pygments_lexer": "ipython3",
   "version": "3.10.13"
  }
 },
 "nbformat": 4,
 "nbformat_minor": 5
}
